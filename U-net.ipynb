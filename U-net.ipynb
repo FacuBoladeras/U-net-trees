{
 "cells": [
  {
   "cell_type": "code",
   "execution_count": 1,
   "metadata": {},
   "outputs": [
    {
     "ename": "ModuleNotFoundError",
     "evalue": "No module named 'cv2'",
     "output_type": "error",
     "traceback": [
      "\u001b[1;31m---------------------------------------------------------------------------\u001b[0m",
      "\u001b[1;31mModuleNotFoundError\u001b[0m                       Traceback (most recent call last)",
      "Cell \u001b[1;32mIn[1], line 3\u001b[0m\n\u001b[0;32m      1\u001b[0m \u001b[38;5;66;03m# estandar\u001b[39;00m\n\u001b[0;32m      2\u001b[0m \u001b[38;5;28;01mimport\u001b[39;00m \u001b[38;5;21;01mos\u001b[39;00m\n\u001b[1;32m----> 3\u001b[0m \u001b[38;5;28;01mimport\u001b[39;00m \u001b[38;5;21;01mcv2\u001b[39;00m \u001b[38;5;28;01mas\u001b[39;00m \u001b[38;5;21;01mcv\u001b[39;00m\n\u001b[0;32m      4\u001b[0m \u001b[38;5;28;01mfrom\u001b[39;00m \u001b[38;5;21;01mkeras\u001b[39;00m\u001b[38;5;21;01m.\u001b[39;00m\u001b[38;5;21;01mmetrics\u001b[39;00m \u001b[38;5;28;01mimport\u001b[39;00m MeanIoU\n\u001b[0;32m      5\u001b[0m \u001b[38;5;28;01mfrom\u001b[39;00m \u001b[38;5;21;01mtqdm\u001b[39;00m \u001b[38;5;28;01mimport\u001b[39;00m tqdm\n",
      "\u001b[1;31mModuleNotFoundError\u001b[0m: No module named 'cv2'"
     ]
    }
   ],
   "source": [
    "# estandar\n",
    "import os\n",
    "import cv2 as cv\n",
    "from keras.metrics import MeanIoU\n",
    "from tqdm import tqdm\n",
    "\n",
    "# data\n",
    "import numpy as np\n",
    "from keras.preprocessing.image import load_img, img_to_array\n",
    "\n",
    "# viz\n",
    "import matplotlib.pyplot as plt\n",
    "\n",
    "# modelo\n",
    "import keras\n",
    "import tensorflow as tf\n",
    "from keras.layers import Conv2D, MaxPool2D, Dropout, BatchNormalization, Input, Conv2DTranspose, concatenate, GlobalAveragePooling2D, Dense\n",
    "from keras import Sequential\n",
    "from keras.callbacks import EarlyStopping, ModelCheckpoint\n",
    "import matplotlib.pyplot as plt\n",
    "from PIL import Image\n",
    "import random\n",
    "import os"
   ]
  },
  {
   "cell_type": "code",
   "execution_count": null,
   "metadata": {},
   "outputs": [],
   "source": [
    "\n",
    "\n",
    "# Directorios de imágenes y máscaras\n",
    "images_dir = r\"C:\\Users\\Facu\\Desktop\\Deep learning pruebas\\Images\\Tiles\"\n",
    "masks_dir = r\"C:\\Users\\Facu\\Desktop\\Deep learning pruebas\\Images\\Masks\"\n",
    "\n",
    "# Obtener lista de archivos de imágenes y máscaras\n",
    "image_files = sorted([f for f in os.listdir(images_dir) if f.endswith('.png')])\n",
    "mask_files = sorted([f for f in os.listdir(masks_dir) if f.endswith('.png')])\n",
    "\n",
    "# Seleccionar tres pares de imágenes y máscaras al azar\n",
    "samples = random.sample(list(zip(image_files, mask_files)), 3)\n",
    "\n",
    "# Crear la figura para visualización\n",
    "fig, axes = plt.subplots(3, 2, figsize=(10, 15))\n",
    "\n",
    "# Visualizar cada par de imagen y máscara\n",
    "for i, (image_file, mask_file) in enumerate(samples):\n",
    "    # Cargar la imagen y la máscara\n",
    "    image = Image.open(os.path.join(images_dir, image_file))\n",
    "    mask = Image.open(os.path.join(masks_dir, mask_file))\n",
    "\n",
    "    # Mostrar imagen\n",
    "    axes[i, 0].imshow(image)\n",
    "    axes[i, 0].set_title(f\"Image: {image_file}\")\n",
    "    axes[i, 0].axis('off')\n",
    "\n",
    "    # Mostrar máscara con colormap\n",
    "    axes[i, 1].imshow(mask, cmap='viridis')  # Puedes usar otros cmap como 'jet', 'plasma', etc.\n",
    "    axes[i, 1].set_title(f\"Mask: {mask_file}\")\n",
    "    axes[i, 1].axis('off')\n",
    "\n",
    "plt.tight_layout()\n",
    "plt.show()"
   ]
  }
 ],
 "metadata": {
  "kernelspec": {
   "display_name": "Geo",
   "language": "python",
   "name": "python3"
  },
  "language_info": {
   "codemirror_mode": {
    "name": "ipython",
    "version": 3
   },
   "file_extension": ".py",
   "mimetype": "text/x-python",
   "name": "python",
   "nbconvert_exporter": "python",
   "pygments_lexer": "ipython3",
   "version": "3.12.4"
  }
 },
 "nbformat": 4,
 "nbformat_minor": 2
}
